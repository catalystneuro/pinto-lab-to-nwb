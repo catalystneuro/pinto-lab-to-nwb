{
 "cells": [
  {
   "cell_type": "markdown",
   "id": "6242b563-faf9-411b-b61e-ff6d5d802609",
   "metadata": {},
   "source": [
    "# Two Photon (Bruker) tutorial with holographic stimulation\n",
    "\n",
    "This tutorial demonstraces how to access the *Two Photon dataset* using `pynwb`. \n",
    "\n",
    "This dataset contains the Two Photon imaging, holographic stimulation data and behavior measurements from the ViRMEN system.\n",
    "\n",
    "Contents:\n",
    "\n",
    "- [Reading an NWB file](#read-nwb)\n",
    "- [Access subject and task metadata](#access-subject)\n",
    "- [Access Imaging](#access-imaging)\n",
    "- [Access Behavior](#access-behavior)\n",
    "- [Access Stimulus](#access-stimulus)\n",
    "- [View NWB files](#view-nwb)\n",
    "\n",
    "A schematic representation where the source data is saved in NWB:\n",
    "\n",
    "![Alt text](data_types_bruker.png)"
   ]
  },
  {
   "cell_type": "markdown",
   "id": "6bc8942c-2b51-4bd9-9e87-51cdd58f25ef",
   "metadata": {},
   "source": [
    "# Reading an NWB file <a name=\"read-nwb\"></a>\n",
    "\n",
    "This section demonstrates how to read an NWB file using `pynwb`.\n",
    "\n",
    "Based on the [NWB File Basics](https://pynwb.readthedocs.io/en/stable/tutorials/general/plot_file.html#sphx-glr-tutorials-general-plot-file-py) tutorial from [PyNWB](https://pynwb.readthedocs.io/en/stable/#).\n",
    "\n",
    "An [NWBFile](https://pynwb.readthedocs.io/en/stable/pynwb.file.html#pynwb.file.NWBFile) represents a single session of an experiment. Each NWBFile must have a `session description`, `identifier`, and `session start time`.\n",
    "\n",
    "Reading is carried out using the [NWBHDF5IO](https://pynwb.readthedocs.io/en/stable/pynwb.html#pynwb.NWBHDF5IO) class. To read the NWB file use the read mode (\"r\") to retrieve an NWBFile object.\n"
   ]
  },
  {
   "cell_type": "code",
   "execution_count": null,
   "id": "b2968627-3cdd-4c65-825c-4e239cf9a5ea",
   "metadata": {},
   "outputs": [],
   "source": [
    "from pynwb import NWBHDF5IO\n",
    "\n",
    "# The file path to a .nwb file\n",
    "nwbfile_path = \"/Volumes/t7-ssd/Pinto/nwbfiles/NCCR32_2023_02_20_Into_the_void_t_series_stim-000.nwb\"\n",
    "io = NWBHDF5IO(path=nwbfile_path, mode=\"r\", load_namespaces=True)\n",
    "nwbfile = io.read()\n",
    "\n",
    "nwbfile"
   ]
  },
  {
   "cell_type": "markdown",
   "id": "8b25d9c7-83c0-4992-8bb5-2548f08bb28a",
   "metadata": {},
   "source": [
    "Importantly, the `session start time` is the reference time for all timestamps in the file. For instance, an event with a timestamp of 0 in the file means the event occurred exactly at the session start time.\n",
    "\n",
    "The `session_start_time` is extracted from the `date` and `time` variables from the ViRMEN file."
   ]
  },
  {
   "cell_type": "code",
   "execution_count": null,
   "id": "52016578-44c1-4a75-b615-ec85d8463c4a",
   "metadata": {},
   "outputs": [],
   "source": [
    "nwbfile.session_start_time"
   ]
  },
  {
   "cell_type": "markdown",
   "id": "8d247090-5cfb-47b1-a1a4-8a7c87921a38",
   "metadata": {},
   "source": [
    "# Access subject and task related metadata <a name=\"access-subject\"></a>\n",
    "\n",
    "## Access subject metadata\n",
    "\n",
    "This section demonstrates how to access the [Subject](https://pynwb.readthedocs.io/en/stable/pynwb.file.html#pynwb.file.Subject) field in an NWB file.\n",
    "\n",
    "The [Subject](https://pynwb.readthedocs.io/en/stable/pynwb.file.html#pynwb.file.Subject) field can be accessed as `nwbfile.subject`.\n"
   ]
  },
  {
   "cell_type": "code",
   "execution_count": null,
   "id": "483b9a74-c5f0-4f59-b422-1a3a7a9c5002",
   "metadata": {},
   "outputs": [],
   "source": [
    "nwbfile.subject"
   ]
  },
  {
   "cell_type": "markdown",
   "id": "47277bac-d8a0-4ce0-a20b-79721eac0e7a",
   "metadata": {},
   "source": [
    "## Access ViRMEN experimental metadata (mazes table, stimulus protocol parameters)\n",
    "\n",
    "This section demonstrates how to access the task related metadata in an NWB file.\n",
    "\n",
    "The ViRMEN experimental metadata is stored in a [LabMetaData](https://pynwb.readthedocs.io/en/stable/pynwb.file.html#pynwb.file.LabMetaData) extension ([ndx-pinto-metadata](https://github.com/catalystneuro/ndx-pinto-metadata)). \n",
    "\n",
    "The LabMetaData](https://pynwb.readthedocs.io/en/stable/pynwb.file.html#pynwb.file.LabMetaData) object can be accessed as `nwbfile.lab_meta_data[\"LabMetaData\"]`.\n",
    "\n",
    "The parameters for the mazes is added to the `mazes` table within `nwbfile.lab_meta_data[\"LabMetaData\"]` which can be accessed as `nwbfile.lab_meta_data[\"LabMetaData\"].mazes`. \n",
    "\n",
    "Data arrays are read passively from the file. Accessing the data attribute of the `mazes` object does not read the data values, but presents an HDF5 object that can be indexed to read data. You can use the [:] operator to read the entire data array into memory as `nwbfile.lab_meta_data[\"LabMetaData\"].mazes[:]`."
   ]
  },
  {
   "cell_type": "code",
   "execution_count": null,
   "id": "07caff60-9c9e-4963-936a-0222ad597d4b",
   "metadata": {
    "scrolled": true
   },
   "outputs": [],
   "source": [
    "nwbfile.lab_meta_data[\"LabMetaData\"]"
   ]
  },
  {
   "cell_type": "code",
   "execution_count": null,
   "id": "09d880cd-ef57-454e-85d4-5cc3df1ce3f1",
   "metadata": {},
   "outputs": [],
   "source": [
    "nwbfile.lab_meta_data[\"LabMetaData\"].mazes[:]"
   ]
  },
  {
   "cell_type": "code",
   "execution_count": null,
   "id": "8adbdb8b-13da-43a2-b26a-b579edc57ae8",
   "metadata": {},
   "outputs": [],
   "source": [
    "nwbfile.lab_meta_data[\"LabMetaData\"].stimulus_protocol[:]"
   ]
  },
  {
   "cell_type": "markdown",
   "id": "709c01f6-b254-4cdb-9a9e-e18ff67fe771",
   "metadata": {},
   "source": [
    "## Access trials\n",
    "\n",
    "Behavior trials are stored in `nwbfile.trials`. The `start_time` denotes the start time of each trial in seconds relative to the global session start time (using the \"StartOfTrial\" column from ViRMEN `.mat` file).\n",
    "The `stop_time` denotes the end time of each trial in seconds relative to the global session start time\n",
    "(using the \"EndOfTrial\" column from the ViRMEN `.mat` file).\n",
    "\n",
    "`nwbfile.trials` can be converted to a pandas DataFrame for convenient analysis using `nwbfile.trials.to_dataframe`.\n"
   ]
  },
  {
   "cell_type": "code",
   "execution_count": null,
   "id": "27bd3de0-7d11-432c-a9cc-32e21ce63a8e",
   "metadata": {},
   "outputs": [],
   "source": [
    "trials = nwbfile.trials.to_dataframe()\n",
    "\n",
    "trials[:10]"
   ]
  },
  {
   "cell_type": "code",
   "execution_count": null,
   "id": "129757c1-a387-4c28-be56-7d5317525a37",
   "metadata": {},
   "outputs": [],
   "source": [
    "trials[trials[\"trial_type\"] == \"right\"][:3]"
   ]
  },
  {
   "cell_type": "markdown",
   "id": "fdc72048-3dc7-4b35-a411-e5507176ef35",
   "metadata": {},
   "source": [
    "# Access TwoPhoton Imaging <a name=\"access-imaging\"></a>\n",
    "\n",
    "This section demonstraces how to access the raw Two Photon imaging data.\n",
    "\n",
    "`NWB` organizes data into different groups depending on the type of data. Groups can be thought of as folders within the file. Here are some of the groups within an NWBFile and the types of data they are intended to store:\n",
    "\n",
    "- `acquisition`: raw, acquired data that should never change\n",
    "- `processing`: processed data, typically the results of preprocessing algorithms and could change\n",
    "\n",
    "## Raw TwoPhoton Imaging\n",
    "\n",
    "The raw TwoPhoton imaging data is stored in `pynwb.ophys.TwoPhotonSeries` objects (for each channel and plane separately) which is added to `nwbfile.acquisition`. The data can be accessed as `nwbfile.acquisition['TwoPhotonSeries']`.\n",
    "\n",
    "The data in [TwoPhotonSeries](https://pynwb.readthedocs.io/en/stable/pynwb.ophys.html#pynwb.ophys.TwoPhotonSeries) is stored as a three dimensional array: the first dimension is time (frame), the second and third dimensions represent x and y (width by height). "
   ]
  },
  {
   "cell_type": "code",
   "execution_count": null,
   "id": "e9621b78-2c39-49fa-8106-d3e277252468",
   "metadata": {},
   "outputs": [],
   "source": [
    "photon_series = nwbfile.acquisition['TwoPhotonSeries']"
   ]
  },
  {
   "cell_type": "code",
   "execution_count": null,
   "id": "1ef00fe3-cb56-4efe-89bb-946bb9bc42b5",
   "metadata": {},
   "outputs": [],
   "source": [
    "# Visualize the imaging data.\n",
    "\n",
    "from matplotlib import pyplot as plt\n",
    "\n",
    "plt.imshow(photon_series.data[50].T, aspect=\"auto\", cmap=\"RdYlBu_r\")\n",
    "plt.title(\"TwoPhotonSeries\")\n",
    "plt.show()\n"
   ]
  },
  {
   "cell_type": "code",
   "execution_count": null,
   "id": "19879672-07e2-443c-ac36-3952200eb33f",
   "metadata": {},
   "outputs": [],
   "source": [
    "photon_series.rate"
   ]
  },
  {
   "cell_type": "code",
   "execution_count": null,
   "id": "0d4a7ee2-4064-4025-9bf4-03e4de6b9b28",
   "metadata": {},
   "outputs": [],
   "source": [
    "photon_series.starting_time"
   ]
  },
  {
   "cell_type": "markdown",
   "id": "087d0ef1-a474-48fc-9106-3a80a188834a",
   "metadata": {},
   "source": [
    "## Accessing the segmentation data\n",
    "\n",
    "The segmentation output for the Two Photon Imaging data is stored in `nwbfile.processing[\"ophys\"]`. \n",
    "\n",
    "In NWB, the [PlaneSegmentation](https://pynwb.readthedocs.io/en/stable/pynwb.ophys.html#pynwb.ophys.PlaneSegmentation) class stores the detected regions of interest in the [TwoPhotonSeries](https://pynwb.readthedocs.io/en/stable/pynwb.ophys.html#pynwb.ophys.TwoPhotonSeries) data. The [ImageSegmentation](https://pynwb.readthedocs.io/en/stable/pynwb.ophys.html#pynwb.ophys.ImageSegmentation) can contain multiple `PlaneSegmentation` tables, so that we can store results of different segmentation algorithms or different segmentation classes.\n",
    "\n",
    "We can access the plane segmentation for the [TwoPhotonSeries](https://pynwb.readthedocs.io/en/stable/pynwb.ophys.html#pynwb.ophys.TwoPhotonSeries) data as \n",
    "`nwbfile.processing[\"ophys\"][\"ImageSegmentation\"][\"PlaneSegmentation\"]`.\n"
   ]
  },
  {
   "cell_type": "code",
   "execution_count": null,
   "id": "f0618a5c-85c1-4a22-b80e-c8dff5942800",
   "metadata": {},
   "outputs": [],
   "source": [
    "plane_segmentation = nwbfile.processing[\"ophys\"][\"ImageSegmentation\"][\"PlaneSegmentation\"][:]\n",
    "plane_segmentation[:10]"
   ]
  },
  {
   "cell_type": "code",
   "execution_count": null,
   "id": "414b0b77-2aa5-4994-a081-6f1375b04e74",
   "metadata": {},
   "outputs": [],
   "source": [
    "plt.imshow(photon_series.data[50].T, aspect=\"auto\", cmap=\"RdYlBu_r\")\n",
    "plt.title(\"TwoPhotonSeries\")\n",
    "plt.show()\n",
    "\n",
    "plt.imshow(plane_segmentation.image_mask[1].T, aspect=\"auto\", cmap=\"RdYlBu_r\")\n",
    "plt.title(\"Image mask (single ROI)\")\n",
    "plt.show()\n"
   ]
  },
  {
   "cell_type": "markdown",
   "id": "da4faa4c-9d0f-473d-b441-4f5e1fef2bb2",
   "metadata": {},
   "source": [
    "The summary images of the segmentation are stored in [Images](https://pynwb.readthedocs.io/en/stable/pynwb.base.html#pynwb.base.Images) container in NWB. \n"
   ]
  },
  {
   "cell_type": "code",
   "execution_count": null,
   "id": "e4974b7a-c2e5-4e75-b19c-1bc3d13ad27a",
   "metadata": {},
   "outputs": [],
   "source": [
    "images = nwbfile.processing[\"ophys\"][\"SegmentationImages\"]\n",
    "images"
   ]
  },
  {
   "cell_type": "code",
   "execution_count": null,
   "id": "4e7e3f92-8c66-4108-b1d6-930bfb3a6ae1",
   "metadata": {},
   "outputs": [],
   "source": [
    "plt.imshow(photon_series.data[50].T, aspect=\"auto\", cmap=\"RdYlBu_r\")\n",
    "plt.title(\"TwoPhotonSeries\")\n",
    "plt.show()\n",
    "\n",
    "plt.imshow(images.images[\"correlation\"].data[:].T, aspect=\"auto\", cmap=\"RdYlBu_r\")\n",
    "plt.title(\"Image Correlation\")\n",
    "plt.show()\n",
    "\n",
    "plt.imshow(images.images[\"mean\"].data[:].T, aspect=\"auto\", cmap=\"RdYlBu_r\")\n",
    "plt.title(\"Image mean\")\n",
    "plt.show()"
   ]
  },
  {
   "cell_type": "markdown",
   "id": "8585d0c9-cd9a-45d4-8b6a-6cc6d91f8acc",
   "metadata": {},
   "source": [
    "The fluroscence traces are stored in a [Fluorescence](https://pynwb.readthedocs.io/en/stable/pynwb.ophys.html#pynwb.ophys.Fluorescence) container, the raw traces can be accessed as `nwbfile.processing[\"ophys\"][\"Fluorescence\"][\"RoiResponseSeries\"]`."
   ]
  },
  {
   "cell_type": "code",
   "execution_count": null,
   "id": "668464e8-da9d-4a0a-9f47-5030b4f5e053",
   "metadata": {},
   "outputs": [],
   "source": [
    "nwbfile.processing[\"ophys\"][\"Fluorescence\"].roi_response_series"
   ]
  },
  {
   "cell_type": "markdown",
   "id": "291ad594-cced-46c1-80aa-3c3c13cc9d7c",
   "metadata": {},
   "source": [
    "## Visualize raw traces"
   ]
  },
  {
   "cell_type": "code",
   "execution_count": null,
   "id": "a24dc36b-a2e5-43d1-989e-f18735c4afaa",
   "metadata": {},
   "outputs": [],
   "source": [
    "import pandas as pd\n",
    "import numpy as np\n",
    "import pandas as pd\n",
    "import warnings\n",
    "warnings.simplefilter(action='ignore', category=pd.errors.PerformanceWarning)\n",
    "\n",
    "data = nwbfile.processing[\"ophys\"][\"Fluorescence\"][\"RoiResponseSeries\"].data[:, :10]\n",
    "df = pd.DataFrame(data)\n",
    "df[\"time\"] = np.arange(0, data.shape[0])\n",
    "df.set_index(\"time\", inplace=True)\n",
    "df.columns.name = 'ROIs'\n",
    "\n",
    "import plotly.express as px\n",
    "\n",
    "fig = px.line(df, facet_row=\"ROIs\", facet_row_spacing=0.01)\n",
    "\n",
    "# hide and lock down axes\n",
    "fig.update_xaxes(visible=True, fixedrange=False)\n",
    "fig.update_yaxes(visible=False, fixedrange=False)\n",
    "\n",
    "# remove facet/subplot labels\n",
    "fig.update_layout(annotations=[], overwrite=True)\n",
    "\n",
    "# strip down the rest of the plot\n",
    "fig.update_layout(\n",
    "    showlegend=True,\n",
    "    plot_bgcolor=\"white\",\n",
    "    margin=dict(t=10, l=10, b=10, r=10)\n",
    ")\n",
    "\n",
    "fig.show(config=dict(displayModeBar=True))"
   ]
  },
  {
   "cell_type": "markdown",
   "id": "4460527d-3e0d-42d9-b746-95ee7074a917",
   "metadata": {},
   "source": [
    "# Access Behavior <a name=\"access-behavior\"></a>\n",
    "\n",
    "This section demonstrates how to access behavioral data from the [pynwb.behavior](https://pynwb.readthedocs.io/en/stable/pynwb.behavior.html#module-pynwb.behavior) module.\n",
    "\n",
    "The behavior data is stored in the \"behavior\" processing module, which can be accessed as `nwbfile.processing[\"behavior\"]`.\n"
   ]
  },
  {
   "cell_type": "code",
   "execution_count": null,
   "id": "82dc9045-0ae2-4515-ab56-f8344623c905",
   "metadata": {},
   "outputs": [],
   "source": [
    "nwbfile.processing[\"behavior\"]"
   ]
  },
  {
   "cell_type": "markdown",
   "id": "1f2545d3-55d2-4a3e-a8e0-fe046331bc72",
   "metadata": {},
   "source": [
    "## Access Position\n",
    "\n",
    "[SpatialSeries](https://pynwb.readthedocs.io/en/stable/pynwb.behavior.html#pynwb.behavior.SpatialSeries) is a subclass of [TimeSeries](https://pynwb.readthedocs.io/en/stable/pynwb.base.html#pynwb.base.TimeSeries) that represents data in space, such as the spatial direction, e.g., of gaze or travel, or position of an animal over time.\n",
    "\n",
    "The x, y (z) position of the animal is stored stored in `SpatialSeries` object inside the [Position](https://pynwb.readthedocs.io/en/stable/pynwb.behavior.html#pynwb.behavior.Position) container.\n",
    "\n",
    "The Position container can be accessed as `nwbfile.processing[\"behavior\"][\"Position\"]`."
   ]
  },
  {
   "cell_type": "code",
   "execution_count": null,
   "id": "62f8542f-fa13-49d6-9478-85601f3d8c7c",
   "metadata": {},
   "outputs": [],
   "source": [
    "nwbfile.processing[\"behavior\"][\"Position\"]"
   ]
  },
  {
   "cell_type": "markdown",
   "id": "21e02705-d97c-4d4d-bdf8-ed4b5feb40c3",
   "metadata": {},
   "source": [
    "The x, y, z position of the animal by ViRMEN iteration can be accessed as `nwbfile.processing[\"behavior\"][\"Position\"][\"SpatialSeries\"]`."
   ]
  },
  {
   "cell_type": "code",
   "execution_count": null,
   "id": "d9202caa-01e4-4307-a281-61f23c187774",
   "metadata": {},
   "outputs": [],
   "source": [
    "position_by_virmen = nwbfile.processing[\"behavior\"][\"Position\"][\"SpatialSeries\"]\n",
    "position_by_virmen"
   ]
  },
  {
   "cell_type": "markdown",
   "id": "ce538054-666b-4ad1-9d34-f9730973b3ff",
   "metadata": {},
   "source": [
    "# Access Stimulus <a name=\"access-stimulus\"></a>\n",
    "\n",
    "This section demonstrates how to access the holographic stimulation data and metadata.\n",
    "\n",
    "The metadata about the stimulus pattern can be accessed as `nwbfile.lab_meta_data[\"stimulus_pattern\"]`."
   ]
  },
  {
   "cell_type": "code",
   "execution_count": null,
   "id": "6c899439-be9f-4187-bc02-b6c9cb2491c3",
   "metadata": {},
   "outputs": [],
   "source": [
    "nwbfile.lab_meta_data[\"stimulus_pattern\"]"
   ]
  },
  {
   "cell_type": "markdown",
   "id": "478da453-ee24-467f-a1d3-a8202fb413d7",
   "metadata": {},
   "source": [
    "The metadata about the laser and the spatial light modulator can be accessed as `nwbfile.devices[\"light_source\"]` and `nwbfile.devices[\"spatial_light_modulator\"]`. "
   ]
  },
  {
   "cell_type": "code",
   "execution_count": null,
   "id": "892f3c53-df9d-4c65-ba21-4bf4836c9eef",
   "metadata": {},
   "outputs": [],
   "source": [
    "nwbfile.devices[\"light_source\"]"
   ]
  },
  {
   "cell_type": "code",
   "execution_count": null,
   "id": "f8dbeba5-e2a4-4624-8498-7c230370d104",
   "metadata": {},
   "outputs": [],
   "source": [
    "nwbfile.devices[\"spatial_light_modulator\"]"
   ]
  },
  {
   "cell_type": "markdown",
   "id": "ac38a9d5-a343-4800-96e1-9944556e2b62",
   "metadata": {},
   "source": [
    "The holographic stimulation data is added to `nwbfile.stimulus['HolographicStimulationSeries']`. "
   ]
  },
  {
   "cell_type": "code",
   "execution_count": null,
   "id": "abe7d566-718f-4493-bb3d-2ac0da7e15c4",
   "metadata": {},
   "outputs": [],
   "source": [
    "nwbfile.stimulus['HolographicStimulationSeries']"
   ]
  },
  {
   "cell_type": "code",
   "execution_count": null,
   "id": "766abe29-7acc-4b44-8a3c-580858d04361",
   "metadata": {},
   "outputs": [],
   "source": [
    "nwbfile.stimulus['HolographicStimulationSeries'].rois[:]"
   ]
  },
  {
   "cell_type": "markdown",
   "id": "2ccf0beb-36fc-41c0-b9ac-b063ba2efe54",
   "metadata": {},
   "source": [
    "## Visualise holographic stimulation series"
   ]
  },
  {
   "cell_type": "code",
   "execution_count": null,
   "id": "6f221f1c-bff3-41ba-ab0d-ef59a3028734",
   "metadata": {},
   "outputs": [],
   "source": [
    "import pandas as pd\n",
    "import numpy as np\n",
    "import pandas as pd\n",
    "import warnings\n",
    "warnings.simplefilter(action='ignore', category=pd.errors.PerformanceWarning)\n",
    "\n",
    "data = nwbfile.stimulus['HolographicStimulationSeries'].data[:, :10]\n",
    "df = pd.DataFrame(data)\n",
    "df[\"time\"] = nwbfile.stimulus['HolographicStimulationSeries'].timestamps\n",
    "df.set_index(\"time\", inplace=True)\n",
    "df.columns.name = 'Stimulated ROIs'\n",
    "\n",
    "import plotly.express as px\n",
    "\n",
    "fig = px.line(df, facet_row=\"Stimulated ROIs\", facet_row_spacing=0.01)\n",
    "\n",
    "# hide and lock down axes\n",
    "fig.update_xaxes(visible=True, fixedrange=False)\n",
    "fig.update_yaxes(visible=False, fixedrange=False)\n",
    "\n",
    "# remove facet/subplot labels\n",
    "fig.update_layout(annotations=[], overwrite=True)\n",
    "\n",
    "# strip down the rest of the plot\n",
    "fig.update_layout(\n",
    "    showlegend=True,\n",
    "    plot_bgcolor=\"white\",\n",
    "    margin=dict(t=10, l=10, b=10, r=10)\n",
    ")\n",
    "\n",
    "fig.show(config=dict(displayModeBar=True))"
   ]
  },
  {
   "cell_type": "code",
   "execution_count": null,
   "id": "36ffd849-5e5a-4837-a032-8ea966d9c1da",
   "metadata": {},
   "outputs": [],
   "source": [
    "from nwbwidgets import nwb2widget\n",
    "\n",
    "nwb2widget(nwbfile)"
   ]
  },
  {
   "cell_type": "markdown",
   "id": "53208589-a659-433c-a699-1c693b0446e3",
   "metadata": {},
   "source": [
    "We also use [Neurosift](https://github.com/flatironinstitute/neurosift), a platform for the visualization of neuroscience data in the web browser."
   ]
  }
 ],
 "metadata": {
  "kernelspec": {
   "display_name": "Python 3 (ipykernel)",
   "language": "python",
   "name": "python3"
  },
  "language_info": {
   "codemirror_mode": {
    "name": "ipython",
    "version": 3
   },
   "file_extension": ".py",
   "mimetype": "text/x-python",
   "name": "python",
   "nbconvert_exporter": "python",
   "pygments_lexer": "ipython3",
   "version": "3.12.0"
  }
 },
 "nbformat": 4,
 "nbformat_minor": 5
}
